{
 "cells": [
  {
   "cell_type": "code",
   "execution_count": 11,
   "metadata": {
    "id": "_hwFIUlFzTYw",
    "outputId": "9419a67b-5c1d-47e0-a7f5-ec9b9cad5bca"
   },
   "outputs": [],
   "source": [
    "import soundfile, os, glob, librosa\n",
    "import pandas as pd\n",
    "import numpy as np\n",
    "from sklearn.model_selection import train_test_split\n",
    "from sklearn.metrics import accuracy_score\n",
    "from copy import deepcopy\n",
    "import warnings; warnings.filterwarnings('ignore')"
   ]
  },
  {
   "cell_type": "code",
   "execution_count": 12,
   "metadata": {
    "id": "GWrZdqrp2E98"
   },
   "outputs": [],
   "source": [
    "EMOTIONS ={\n",
    "  '01':'neutral',\n",
    "  '02':'calm',\n",
    "  '03':'happy',\n",
    "  '04':'sad',\n",
    "  '05':'angry',\n",
    "  '06':'fearful',\n",
    "  '07':'disgust',\n",
    "  '08':'surprised'\n",
    "}\n",
    "\n",
    "LABELS = {\n",
    "  'positive': 1,\n",
    "  'negative': -1\n",
    "}"
   ]
  },
  {
   "cell_type": "markdown",
   "metadata": {
    "id": "UrgQMSEU-nzZ"
   },
   "source": [
    "### Data for binary classification\n"
   ]
  },
  {
   "cell_type": "code",
   "execution_count": 13,
   "metadata": {
    "id": "vSe0sBT12HgO"
   },
   "outputs": [
    {
     "name": "stdout",
     "output_type": "stream",
     "text": [
      "Processed 100 Audio Files\n",
      "Processed 200 Audio Files\n",
      "Processed 300 Audio Files\n",
      "Processed 400 Audio Files\n",
      "Processed 500 Audio Files\n",
      "Processed 600 Audio Files\n",
      "Processed 700 Audio Files\n"
     ]
    }
   ],
   "source": [
    "def load_extract_features(data_path):\n",
    "    \"\"\"\n",
    "    Loads all Audio Files, Computes their features and target values.\n",
    "\n",
    "    There are around 8-10 audio files which are corrupted. We hardcode zero values for such files in order to maintain consistency.\n",
    "\n",
    "    ['calm', 'happy'] emotion data is categorized into 'positive' and  ['angry', 'fearful'] into 'negative'\n",
    "\n",
    "    Args:\n",
    "        data_path (str): _description_\n",
    "\n",
    "    Returns:\n",
    "        tuple: Features and Binary Target Values\n",
    "    \"\"\"\n",
    "\n",
    "    final_features, binary_label = [], []\n",
    "    count = 0\n",
    "\n",
    "    for i in glob.glob(data_path + \"/Actor_*/*.wav\"): #Loop to read every file.\n",
    "\n",
    "        name = os.path.basename(i)\n",
    "        # We split the name of the file to understand the emotion associated with the file.\n",
    "        # We know that the third identifier is associated with the emotion of the audio file.\n",
    "        # Hence, we use [2] as it represents the third identifier.\n",
    "        emotion = EMOTIONS[name.split(\"-\")[2]]\n",
    "\n",
    "        #Below is the code to categorize the emotions into two classes to make this a binary problem.\n",
    "        if emotion in ['calm', 'happy']:\n",
    "            binary_label.append(LABELS['positive'])\n",
    "        elif emotion in ['angry', 'fearful']:\n",
    "            binary_label.append(LABELS['negative'])\n",
    "        else:\n",
    "            continue\n",
    "\n",
    "        with soundfile.SoundFile(i) as audio:\n",
    "            waveform = audio.read(dtype=\"float32\")\n",
    "            sr = audio.samplerate\n",
    "\n",
    "            # Below is the code to extract the Mel spectrogram features\n",
    "            # 128 is the standard for machine learning applications using Mel spectrograms\n",
    "            m_feature = librosa.feature.melspectrogram(y=waveform, sr=sr, n_mels=128, fmax=sr/2.0).T\n",
    "            melspectrogram = np.mean(m_feature,axis=0)\n",
    "            if melspectrogram.shape != (128,): melspectrogram = np.zeros(128)\n",
    "\n",
    "            # Below is the code to extract the chromagram features\n",
    "            stft_wave = librosa.stft(waveform)\n",
    "            stft = np.abs(stft_wave)\n",
    "            c_feature = librosa.feature.chroma_stft(S=stft, sr=sr).T\n",
    "            chromagram = np.mean(c_feature,axis=0)\n",
    "\n",
    "            # 12 is the number of pitch classes\n",
    "            if chromagram.shape != (12,): chromagram = np.zeros(12)\n",
    "\n",
    "            final_features.append(np.array([*chromagram, *melspectrogram]))\n",
    "\n",
    "            count += 1\n",
    "            if count % 100 == 0: print(f\"Processed {count} Audio Files\")\n",
    "\n",
    "    #We return the features and the binary target values.\n",
    "    return np.array(final_features), np.array(binary_label)\n",
    "\n",
    "#Please change the path below to the path of the folder saved in your computer.\n",
    "data_path = './Audio_Speech_Actors_01-24'\n",
    "X, y = load_extract_features(data_path)"
   ]
  },
  {
   "cell_type": "markdown",
   "metadata": {},
   "source": [
    "## SVM"
   ]
  },
  {
   "cell_type": "code",
   "execution_count": null,
   "metadata": {},
   "outputs": [],
   "source": [
    "STEP_SIZE = 0.0001  # Learning Rate for the Gradient Descent\n",
    "\n",
    "def train(X, y, init_w=None, init_b=None, max_iters=1000):\n",
    "    \"\"\"\n",
    "    Finds the Support Vector Machine model parameter estimations using Gradient Descent.\n",
    "\n",
    "    Args:\n",
    "        X (np.ndarray (Shape: (N, k))): A Nxk matrix containing Mel spectrogram and chromagram data.\n",
    "        y (np.ndarray (Shape: (N, ))): A array representing 1 as 'positive' emotion and -1 as 'negative' emotion.\n",
    "        max_iters (int, optional): Number of iterations for the Gradient Descent Algorithm. Defaults to 1000.\n",
    "\n",
    "    Returns:\n",
    "        w, b: (np.ndarray (Shape: (k, )), float): Estimated Weights and Bias Term for the model.\n",
    "    \"\"\"\n",
    "\n",
    "    assert X.shape[0] == y.shape[0], f\"Number of inputs and outputs are different. (X: {X.shape[0]}, y: {y.shape[0]})\"\n",
    "    assert np.array_equal(np.unique(y), [-1, 1]), f\"Labels must be either -1 or 1. (labels: {np.unique(y)}\"\n",
    "\n",
    "    N, N_f = X.shape\n",
    "\n",
    "    # Initializes the weights and bias\n",
    "    w = np.zeros((N_f, )) if init_w == None else np.copy(init_w)\n",
    "    b = 0 if init_b == None else deepcopy(init_b)\n",
    "\n",
    "    for _ in range(max_iters):\n",
    "        sw = np.zeros((N_f, ))\n",
    "        sb = 0\n",
    "\n",
    "        # Calculates the max(0, 1 - y * (X @ w + b))\n",
    "        distances = 1 - y * (np.dot(X, w) + b)\n",
    "        distances[distances < 0] = 0\n",
    "\n",
    "        # Sums up the delta for weights and bias gradients\n",
    "        for idx, distance in enumerate(distances):\n",
    "            if distance == 0:\n",
    "                sw += STEP_SIZE * w\n",
    "                sb += 0\n",
    "            else:\n",
    "                sw += STEP_SIZE * w - y[idx] * X[idx]\n",
    "                sb += -y[idx]\n",
    "\n",
    "       # Moves the weights and bias closer to the estimate\n",
    "        w -= STEP_SIZE * sw/N\n",
    "        b -= STEP_SIZE * sb/N\n",
    "\n",
    "    return w, b\n",
    "\n",
    "def predict(X, w, b):\n",
    "    \"\"\"\n",
    "    Returns predictions using estimated weights and bias term for the SVM model.\n",
    "\n",
    "    Args:\n",
    "        X (np.ndarray (Shape: (N, k))): A Nxk matrix containing Mel spectrogram and chromagram data.\n",
    "        w (ndarray (Shape: (k, ))): Estimated weights term for the SVM model.\n",
    "        b (float): Estimated bias term for the SVM model.\n",
    "\n",
    "    Returns:\n",
    "        (np.ndarray (Shape: (N, ))): Array representing 1 as 'positive' emotion and -1 as 'negative' emotion.\n",
    "    \"\"\"\n",
    "\n",
    "    assert X.shape[1] == w.shape[0], f\"Number of inputs and weights are different. (X: {X.shape[1]}, y: {w.shape[0]})\"\n",
    "\n",
    "    return np.asarray(np.sign(np.dot(X, w) + b), dtype=int)"
   ]
  },
  {
   "cell_type": "markdown",
   "metadata": {},
   "source": [
    "## PCA"
   ]
  },
  {
   "cell_type": "code",
   "execution_count": null,
   "metadata": {},
   "outputs": [],
   "source": [
    "def PCA(X, threshold=0.99):\n",
    "    \"\"\"\n",
    "    Runs a PCA on X with a certain threshold\n",
    "\n",
    "    Args:\n",
    "        X (np.ndarray (Shape: (N, d))): A Nxd matrix containing Mel spectrogram and chromagram data.\n",
    "        threshold (float, optional): Threshold for Varaince Maximization. Defaults to 0.99.\n",
    "\n",
    "    Returns:\n",
    "        np.ndarray (Shape: (N, k)): A Nxk matrix containing the basis eigenvectors where k << d.\n",
    "    \"\"\"\n",
    "\n",
    "    assert 0.01 <= threshold <= 0.99 , f\"threshold should be a percent between [0.01 , 0.99] (threshold: {threshold})\"\n",
    "\n",
    "    N, _ = X.shape\n",
    "    X_meaned = X - np.mean(X, axis=0)\n",
    "    cov = np.cov(X, rowvar=False) * (N-1)/N\n",
    "    eigenvalues, eigenvectors = np.linalg.eig(cov)\n",
    "\n",
    "    sort_order = np.argsort(eigenvalues)[::-1]\n",
    "    sorted_eigenvalue = eigenvalues[sort_order]\n",
    "    sorted_eigenvectors = eigenvectors[sort_order]\n",
    "\n",
    "    num_components = X_meaned.shape[-1]\n",
    "    for k in range(1, X.shape[-1] + 1):\n",
    "        h = np.sum(sorted_eigenvalue[:k])/np.sum(sorted_eigenvalue)\n",
    "        if h >= threshold:\n",
    "            num_components = k\n",
    "            break\n",
    "\n",
    "    W = sorted_eigenvectors[:,0:num_components]\n",
    "    return np.dot(W.T, X_meaned.T).T"
   ]
  }
 ],
 "metadata": {
  "colab": {
   "provenance": []
  },
  "kernelspec": {
   "display_name": "Python 3.10.8 ('cscc11')",
   "language": "python",
   "name": "python3"
  },
  "language_info": {
   "codemirror_mode": {
    "name": "ipython",
    "version": 3
   },
   "file_extension": ".py",
   "mimetype": "text/x-python",
   "name": "python",
   "nbconvert_exporter": "python",
   "pygments_lexer": "ipython3",
   "version": "3.10.8"
  },
  "vscode": {
   "interpreter": {
    "hash": "85bcffb2f92e5d976c05390d637263682ff066627114711b98042e6877e4a14e"
   }
  }
 },
 "nbformat": 4,
 "nbformat_minor": 1
}
